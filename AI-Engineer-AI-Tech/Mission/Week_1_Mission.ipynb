{
  "cells": [
    {
      "cell_type": "markdown",
      "source": [
        "### [TODO] 코드 실행 : 가상환경 설치하기\n",
        "\n",
        "가상환경 설치를 완료하고, 현재 파이썬 버전을 확인해보세요.\n"
      ],
      "metadata": {
        "id": "MfOdcTSQgZ55"
      }
    },
    {
      "cell_type": "code",
      "source": [
        "import sys\n",
        "print(sys.version)"
      ],
      "metadata": {
        "id": "awloiAiGgg8x"
      },
      "execution_count": null,
      "outputs": []
    },
    {
      "cell_type": "markdown",
      "source": [
        "### [TODO] 코드 구현 : 실행환경 점검 - 파일 입출력\n",
        "\n",
        "압축 파일 내에 제공된 'zen of python.csv' 파일을 불러와 내용을 출력해보세요.\n",
        "불러올 파일을 저장한 변수명은 'df_csv' 입니다."
      ],
      "metadata": {
        "id": "ughF0l9BhAg-"
      }
    },
    {
      "cell_type": "code",
      "source": [
        "import pandas as pd\n",
        "\n",
        "## 코드시작 ##\n",
        "\n",
        "\n",
        "\n",
        "## 코드종료 ##\n",
        "\n",
        "print(df_csv)"
      ],
      "metadata": {
        "id": "Qwg-mYfuhI1y"
      },
      "execution_count": null,
      "outputs": []
    },
    {
      "cell_type": "markdown",
      "metadata": {
        "id": "rFOJ8dz1Y_Yo"
      },
      "source": [
        "### [TODO] 코드 구현 : 간단한 코드 작성하고 실행하기 (numpy)\n",
        "\n",
        "다음 지시문의 코드를 작성하고 결과를 출력해보세요."
      ]
    },
    {
      "cell_type": "code",
      "execution_count": null,
      "metadata": {
        "id": "J1SylZwoZOBY"
      },
      "outputs": [],
      "source": [
        "pip install numpy\n",
        "import numpy as np\n",
        "\n",
        "# 주어진 리스트\n",
        "data = [10, 25, 40, 55, 70]\n",
        "\n",
        "## 코드시작 ##\n",
        "# 1. numpy 배열로 변환하여 출력하세요.\n",
        "\n",
        "\n",
        "# 2. 리스트의 모든 원소의 합을 계산하여 출력하세요.\n",
        "\n",
        "\n",
        "# 3. 리스트의 모든 원소의 평균을 계산하여 출력하세요.\n",
        "\n",
        "\n",
        "# 4. 리스트의 최댓값과 최솟값을 출력하세요.\n",
        "\n",
        "\n",
        "# 5. 각 원소를 10으로 나누는 연산을 수행하고 결과를 출력하세요.\n",
        "\n",
        "\n",
        "# 6. 각 원소를 3으로 거듭제곱하는 연산을 수행하고 결과를 출력하세요.\n",
        "\n",
        "\n",
        "## 코드종료 ##"
      ]
    },
    {
      "cell_type": "markdown",
      "metadata": {
        "id": "UaIA4ZOk6MOa"
      },
      "source": [
        "ALL RIGHTS RESERVED. ⓒNAVER Connect Foundation."
      ]
    }
  ],
  "metadata": {
    "colab": {
      "provenance": []
    },
    "kernelspec": {
      "display_name": "Python 3",
      "name": "python3"
    },
    "language_info": {
      "name": "python"
    }
  },
  "nbformat": 4,
  "nbformat_minor": 0
}